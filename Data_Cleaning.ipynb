{
 "cells": [
  {
   "cell_type": "code",
   "id": "initial_id",
   "metadata": {
    "collapsed": true,
    "ExecuteTime": {
     "end_time": "2025-04-30T09:36:37.672329Z",
     "start_time": "2025-04-30T09:36:37.660230Z"
    }
   },
   "source": [
    "# This Notebook is focused on cleaning data\n",
    "print(\"What hath God wrought\")"
   ],
   "outputs": [
    {
     "name": "stdout",
     "output_type": "stream",
     "text": [
      "What hath God wrought\n"
     ]
    }
   ],
   "execution_count": 1
  },
  {
   "metadata": {
    "ExecuteTime": {
     "end_time": "2025-04-30T09:36:37.717502Z",
     "start_time": "2025-04-30T09:36:37.698913Z"
    }
   },
   "cell_type": "code",
   "source": [
    "import numpy as np\n",
    "import pandas as pd"
   ],
   "id": "c396698acacdd665",
   "outputs": [],
   "execution_count": 2
  },
  {
   "metadata": {
    "ExecuteTime": {
     "end_time": "2025-04-30T09:36:53.157093Z",
     "start_time": "2025-04-30T09:36:37.857945Z"
    }
   },
   "cell_type": "code",
   "source": [
    "# Read in csv files as dataframes\n",
    "airlines_df = pd.read_csv(\"data/airlines.csv\")\n",
    "airports_df = pd.read_csv(\"data/airports.csv\")\n",
    "# flights_df is the main DataFrame with\n",
    "flights_df = pd.read_csv(\"data/flights.csv\",\n",
    "                         dtype={\"YEAR\":\"category\", \"MONTH\":\"uint8\", \"DAY\":\"uint8\", \"DAY_OF_WEEK\":\"uint8\", \"AIRLINE\":\"category\", \"FLIGHT_NUMBER\":\"category\", \"TAIL_NUMBER\":\"category\", \"ORIGIN_AIRPORT\":\"str\", \"DESTINATION_AIRPORT\":\"str\", \"SCHEDULED_DEPARTURE\":\"uint16\", \"SCHEDULED_ARRIVAL\":\"uint16\", \"DIVERTED\":\"int8\", \"CANCELLED\":\"int8\"})\n",
    "print(f\"flights_df is the main dataframe with flights_df.shape[0] rows.  Each row is a flight\")"
   ],
   "id": "481ba284f42eee2d",
   "outputs": [
    {
     "name": "stdout",
     "output_type": "stream",
     "text": [
      "flights_df is the main dataframe with flights_df.shape[0] rows.  Each row is a flight\n"
     ]
    }
   ],
   "execution_count": 3
  },
  {
   "metadata": {
    "ExecuteTime": {
     "end_time": "2025-04-30T09:36:53.310885Z",
     "start_time": "2025-04-30T09:36:53.252435Z"
    }
   },
   "cell_type": "code",
   "source": [
    "flights_df.head()\n",
    "# flights_df has 31 columns, columns for YEAR, MONTH, DAY, DAY_OF_WEEK, and SCHEDULED DEPARTURE ("
   ],
   "id": "64409a349ec1591c",
   "outputs": [
    {
     "data": {
      "text/plain": [
       "   YEAR  MONTH  DAY  DAY_OF_WEEK AIRLINE FLIGHT_NUMBER TAIL_NUMBER  \\\n",
       "0  2015      1    1            4      AS            98      N407AS   \n",
       "1  2015      1    1            4      AA          2336      N3KUAA   \n",
       "2  2015      1    1            4      US           840      N171US   \n",
       "3  2015      1    1            4      AA           258      N3HYAA   \n",
       "4  2015      1    1            4      AS           135      N527AS   \n",
       "\n",
       "  ORIGIN_AIRPORT DESTINATION_AIRPORT  SCHEDULED_DEPARTURE  ...  ARRIVAL_TIME  \\\n",
       "0            ANC                 SEA                    5  ...         408.0   \n",
       "1            LAX                 PBI                   10  ...         741.0   \n",
       "2            SFO                 CLT                   20  ...         811.0   \n",
       "3            LAX                 MIA                   20  ...         756.0   \n",
       "4            SEA                 ANC                   25  ...         259.0   \n",
       "\n",
       "   ARRIVAL_DELAY  DIVERTED  CANCELLED  CANCELLATION_REASON  AIR_SYSTEM_DELAY  \\\n",
       "0          -22.0         0          0                  NaN               NaN   \n",
       "1           -9.0         0          0                  NaN               NaN   \n",
       "2            5.0         0          0                  NaN               NaN   \n",
       "3           -9.0         0          0                  NaN               NaN   \n",
       "4          -21.0         0          0                  NaN               NaN   \n",
       "\n",
       "   SECURITY_DELAY  AIRLINE_DELAY  LATE_AIRCRAFT_DELAY  WEATHER_DELAY  \n",
       "0             NaN            NaN                  NaN            NaN  \n",
       "1             NaN            NaN                  NaN            NaN  \n",
       "2             NaN            NaN                  NaN            NaN  \n",
       "3             NaN            NaN                  NaN            NaN  \n",
       "4             NaN            NaN                  NaN            NaN  \n",
       "\n",
       "[5 rows x 31 columns]"
      ],
      "text/html": [
       "<div>\n",
       "<style scoped>\n",
       "    .dataframe tbody tr th:only-of-type {\n",
       "        vertical-align: middle;\n",
       "    }\n",
       "\n",
       "    .dataframe tbody tr th {\n",
       "        vertical-align: top;\n",
       "    }\n",
       "\n",
       "    .dataframe thead th {\n",
       "        text-align: right;\n",
       "    }\n",
       "</style>\n",
       "<table border=\"1\" class=\"dataframe\">\n",
       "  <thead>\n",
       "    <tr style=\"text-align: right;\">\n",
       "      <th></th>\n",
       "      <th>YEAR</th>\n",
       "      <th>MONTH</th>\n",
       "      <th>DAY</th>\n",
       "      <th>DAY_OF_WEEK</th>\n",
       "      <th>AIRLINE</th>\n",
       "      <th>FLIGHT_NUMBER</th>\n",
       "      <th>TAIL_NUMBER</th>\n",
       "      <th>ORIGIN_AIRPORT</th>\n",
       "      <th>DESTINATION_AIRPORT</th>\n",
       "      <th>SCHEDULED_DEPARTURE</th>\n",
       "      <th>...</th>\n",
       "      <th>ARRIVAL_TIME</th>\n",
       "      <th>ARRIVAL_DELAY</th>\n",
       "      <th>DIVERTED</th>\n",
       "      <th>CANCELLED</th>\n",
       "      <th>CANCELLATION_REASON</th>\n",
       "      <th>AIR_SYSTEM_DELAY</th>\n",
       "      <th>SECURITY_DELAY</th>\n",
       "      <th>AIRLINE_DELAY</th>\n",
       "      <th>LATE_AIRCRAFT_DELAY</th>\n",
       "      <th>WEATHER_DELAY</th>\n",
       "    </tr>\n",
       "  </thead>\n",
       "  <tbody>\n",
       "    <tr>\n",
       "      <th>0</th>\n",
       "      <td>2015</td>\n",
       "      <td>1</td>\n",
       "      <td>1</td>\n",
       "      <td>4</td>\n",
       "      <td>AS</td>\n",
       "      <td>98</td>\n",
       "      <td>N407AS</td>\n",
       "      <td>ANC</td>\n",
       "      <td>SEA</td>\n",
       "      <td>5</td>\n",
       "      <td>...</td>\n",
       "      <td>408.0</td>\n",
       "      <td>-22.0</td>\n",
       "      <td>0</td>\n",
       "      <td>0</td>\n",
       "      <td>NaN</td>\n",
       "      <td>NaN</td>\n",
       "      <td>NaN</td>\n",
       "      <td>NaN</td>\n",
       "      <td>NaN</td>\n",
       "      <td>NaN</td>\n",
       "    </tr>\n",
       "    <tr>\n",
       "      <th>1</th>\n",
       "      <td>2015</td>\n",
       "      <td>1</td>\n",
       "      <td>1</td>\n",
       "      <td>4</td>\n",
       "      <td>AA</td>\n",
       "      <td>2336</td>\n",
       "      <td>N3KUAA</td>\n",
       "      <td>LAX</td>\n",
       "      <td>PBI</td>\n",
       "      <td>10</td>\n",
       "      <td>...</td>\n",
       "      <td>741.0</td>\n",
       "      <td>-9.0</td>\n",
       "      <td>0</td>\n",
       "      <td>0</td>\n",
       "      <td>NaN</td>\n",
       "      <td>NaN</td>\n",
       "      <td>NaN</td>\n",
       "      <td>NaN</td>\n",
       "      <td>NaN</td>\n",
       "      <td>NaN</td>\n",
       "    </tr>\n",
       "    <tr>\n",
       "      <th>2</th>\n",
       "      <td>2015</td>\n",
       "      <td>1</td>\n",
       "      <td>1</td>\n",
       "      <td>4</td>\n",
       "      <td>US</td>\n",
       "      <td>840</td>\n",
       "      <td>N171US</td>\n",
       "      <td>SFO</td>\n",
       "      <td>CLT</td>\n",
       "      <td>20</td>\n",
       "      <td>...</td>\n",
       "      <td>811.0</td>\n",
       "      <td>5.0</td>\n",
       "      <td>0</td>\n",
       "      <td>0</td>\n",
       "      <td>NaN</td>\n",
       "      <td>NaN</td>\n",
       "      <td>NaN</td>\n",
       "      <td>NaN</td>\n",
       "      <td>NaN</td>\n",
       "      <td>NaN</td>\n",
       "    </tr>\n",
       "    <tr>\n",
       "      <th>3</th>\n",
       "      <td>2015</td>\n",
       "      <td>1</td>\n",
       "      <td>1</td>\n",
       "      <td>4</td>\n",
       "      <td>AA</td>\n",
       "      <td>258</td>\n",
       "      <td>N3HYAA</td>\n",
       "      <td>LAX</td>\n",
       "      <td>MIA</td>\n",
       "      <td>20</td>\n",
       "      <td>...</td>\n",
       "      <td>756.0</td>\n",
       "      <td>-9.0</td>\n",
       "      <td>0</td>\n",
       "      <td>0</td>\n",
       "      <td>NaN</td>\n",
       "      <td>NaN</td>\n",
       "      <td>NaN</td>\n",
       "      <td>NaN</td>\n",
       "      <td>NaN</td>\n",
       "      <td>NaN</td>\n",
       "    </tr>\n",
       "    <tr>\n",
       "      <th>4</th>\n",
       "      <td>2015</td>\n",
       "      <td>1</td>\n",
       "      <td>1</td>\n",
       "      <td>4</td>\n",
       "      <td>AS</td>\n",
       "      <td>135</td>\n",
       "      <td>N527AS</td>\n",
       "      <td>SEA</td>\n",
       "      <td>ANC</td>\n",
       "      <td>25</td>\n",
       "      <td>...</td>\n",
       "      <td>259.0</td>\n",
       "      <td>-21.0</td>\n",
       "      <td>0</td>\n",
       "      <td>0</td>\n",
       "      <td>NaN</td>\n",
       "      <td>NaN</td>\n",
       "      <td>NaN</td>\n",
       "      <td>NaN</td>\n",
       "      <td>NaN</td>\n",
       "      <td>NaN</td>\n",
       "    </tr>\n",
       "  </tbody>\n",
       "</table>\n",
       "<p>5 rows × 31 columns</p>\n",
       "</div>"
      ]
     },
     "execution_count": 4,
     "metadata": {},
     "output_type": "execute_result"
    }
   ],
   "execution_count": 4
  },
  {
   "metadata": {
    "ExecuteTime": {
     "end_time": "2025-04-30T09:36:56.482512Z",
     "start_time": "2025-04-30T09:36:53.652619Z"
    }
   },
   "cell_type": "code",
   "source": [
    "# The major issue with the dataset is that the Airport IATA codes (3 character codes such as JFK or LAX) are replaced by 5 digit numbers for the month of October.\n",
    "# These numbers can be found at the address below:\n",
    "# https://transtats.bts.gov/FieldInfo.asp?Svryq_Qr5p=b4vtv0%FDNv42146%FP%FDNv42146%FDVQ.%FDN0%FDvqr06vsvpn6v10%FD07zor4%FDn55vt0rq%FDoB%FDhf%FDQbg%FD61%FDvqr06vsB%FDn%FD70v37r%FDnv42146.%FD%FDh5r%FD6uv5%FDsvryq%FDs14%FDnv42146%FDn0nyB5v5%FDnp4155%FDn%FD4n0tr%FD1s%FDBrn45%FDorpn75r%FDn0%FDnv42146%FDpn0%FDpun0tr%FDv65%FDnv42146%FDp1qr%FDn0q%FDnv42146%FDp1qr5%FDpn0%FDor%FD4r75rq.&Svryq_gB2r=a7z&Y11x72_gnoyr=Y_NVecbeg_VQ&gnoyr_VQ=FIL&flf_gnoyr_anzr=g_gEDDQ_ZNeXRg_hf_PNeeVRe_baYl&fB5_Svryq_anzr=beVTVa_NVecbeg_VQ\n",
    "numeric_flights_df = flights_df[flights_df[\"ORIGIN_AIRPORT\"].str.contains(r\"\\d+\", regex=True)]\n",
    "print(\"Number of flights in October:\", len(flights_df[flights_df[\"MONTH\"] == 10]))\n",
    "print(\"Number of October flights with a numeric code:\", numeric_flights_df['MONTH'].value_counts().loc[10])"
   ],
   "id": "2a729355ea7c9b3e",
   "outputs": [
    {
     "name": "stdout",
     "output_type": "stream",
     "text": [
      "Number of flights in October: 486165\n",
      "Number of October flights with a numeric code: 486165\n"
     ]
    }
   ],
   "execution_count": 5
  },
  {
   "metadata": {
    "ExecuteTime": {
     "end_time": "2025-04-30T09:36:56.681980Z",
     "start_time": "2025-04-30T09:36:56.562389Z"
    }
   },
   "cell_type": "code",
   "source": [
    "# I will replace the 5 digit codes with the 3 character IATA codes by matching the data together.  In order to this I will have to clean the data and extract derivative columns.\n",
    "\n",
    "codes = pd.concat([numeric_flights_df[\"ORIGIN_AIRPORT\"], numeric_flights_df[\"DESTINATION_AIRPORT\"]], ignore_index=True).unique().astype(\"int64\") # List of all the IATA codes in the dataset\n",
    "\n",
    "numeric_airports_df = pd.read_csv(\"data/L_AIRPORT_ID.csv\").set_index(\"Code\") # List of all airports and their IATA codes as well as the 5 digit codes\n",
    "numeric_airports_df = numeric_airports_df.loc[codes].reset_index() # Only including the codes of airports that are in the flights_df dataset in October\n",
    "numeric_airports_df[\"Code\"] = numeric_airports_df[\"Code\"].astype(\"str\")\n",
    "numeric_airports_df[\"N_CITY\"] = numeric_airports_df[\"Description\"].str.split(\",\").str[0] # Derivative column for the City\n",
    "numeric_airports_df[\"AIRPORT\"] = numeric_airports_df[\"Description\"].str.split(\": \").str[1] # Derivative column for the Airport name\n",
    "numeric_airports_df[\"N_STATE\"] = numeric_airports_df[\"Description\"].str.extract(r\", (.+?):\") # Derivative column for the State\n",
    "\n",
    "for c in [\"N_CITY\", \"AIRPORT\", \"N_STATE\"]:\n",
    "    numeric_airports_df[c].str.strip()\n",
    "\n",
    "print(\"Number of airports in the month of October:\", len(numeric_airports_df))\n",
    "print(\"Number of airports in the dataset as a whole:\", len(airports_df))\n",
    "# There are 15 less airports used in October than in the dataset as a whole\n",
    "numeric_airports_df.head()"
   ],
   "id": "5ae48d8c5e998039",
   "outputs": [
    {
     "name": "stdout",
     "output_type": "stream",
     "text": [
      "Number of airports in the month of October: 307\n",
      "Number of airports in the dataset as a whole: 322\n"
     ]
    },
    {
     "data": {
      "text/plain": [
       "    Code                                       Description          N_CITY  \\\n",
       "0  14747         Seattle, WA: Seattle/Tacoma International         Seattle   \n",
       "1  14771    San Francisco, CA: San Francisco International   San Francisco   \n",
       "2  12889           Las Vegas, NV: Harry Reid International       Las Vegas   \n",
       "3  12892        Los Angeles, CA: Los Angeles International     Los Angeles   \n",
       "4  14869  Salt Lake City, UT: Salt Lake City International  Salt Lake City   \n",
       "\n",
       "                        AIRPORT N_STATE  \n",
       "0  Seattle/Tacoma International      WA  \n",
       "1   San Francisco International      CA  \n",
       "2      Harry Reid International      NV  \n",
       "3     Los Angeles International      CA  \n",
       "4  Salt Lake City International      UT  "
      ],
      "text/html": [
       "<div>\n",
       "<style scoped>\n",
       "    .dataframe tbody tr th:only-of-type {\n",
       "        vertical-align: middle;\n",
       "    }\n",
       "\n",
       "    .dataframe tbody tr th {\n",
       "        vertical-align: top;\n",
       "    }\n",
       "\n",
       "    .dataframe thead th {\n",
       "        text-align: right;\n",
       "    }\n",
       "</style>\n",
       "<table border=\"1\" class=\"dataframe\">\n",
       "  <thead>\n",
       "    <tr style=\"text-align: right;\">\n",
       "      <th></th>\n",
       "      <th>Code</th>\n",
       "      <th>Description</th>\n",
       "      <th>N_CITY</th>\n",
       "      <th>AIRPORT</th>\n",
       "      <th>N_STATE</th>\n",
       "    </tr>\n",
       "  </thead>\n",
       "  <tbody>\n",
       "    <tr>\n",
       "      <th>0</th>\n",
       "      <td>14747</td>\n",
       "      <td>Seattle, WA: Seattle/Tacoma International</td>\n",
       "      <td>Seattle</td>\n",
       "      <td>Seattle/Tacoma International</td>\n",
       "      <td>WA</td>\n",
       "    </tr>\n",
       "    <tr>\n",
       "      <th>1</th>\n",
       "      <td>14771</td>\n",
       "      <td>San Francisco, CA: San Francisco International</td>\n",
       "      <td>San Francisco</td>\n",
       "      <td>San Francisco International</td>\n",
       "      <td>CA</td>\n",
       "    </tr>\n",
       "    <tr>\n",
       "      <th>2</th>\n",
       "      <td>12889</td>\n",
       "      <td>Las Vegas, NV: Harry Reid International</td>\n",
       "      <td>Las Vegas</td>\n",
       "      <td>Harry Reid International</td>\n",
       "      <td>NV</td>\n",
       "    </tr>\n",
       "    <tr>\n",
       "      <th>3</th>\n",
       "      <td>12892</td>\n",
       "      <td>Los Angeles, CA: Los Angeles International</td>\n",
       "      <td>Los Angeles</td>\n",
       "      <td>Los Angeles International</td>\n",
       "      <td>CA</td>\n",
       "    </tr>\n",
       "    <tr>\n",
       "      <th>4</th>\n",
       "      <td>14869</td>\n",
       "      <td>Salt Lake City, UT: Salt Lake City International</td>\n",
       "      <td>Salt Lake City</td>\n",
       "      <td>Salt Lake City International</td>\n",
       "      <td>UT</td>\n",
       "    </tr>\n",
       "  </tbody>\n",
       "</table>\n",
       "</div>"
      ]
     },
     "execution_count": 6,
     "metadata": {},
     "output_type": "execute_result"
    }
   ],
   "execution_count": 6
  },
  {
   "metadata": {
    "ExecuteTime": {
     "end_time": "2025-04-30T09:36:56.806321Z",
     "start_time": "2025-04-30T09:36:56.793250Z"
    }
   },
   "cell_type": "code",
   "source": [
    "# Cleaning airports_df\n",
    "airports_df[\"AIRPORT\"] = airports_df[\"AIRPORT\"].str.replace(\"\\u00A0\", \"\") # Get rid of all non-breaking spaces\n",
    "airports_df[\"AIRPORT\"] = airports_df[\"AIRPORT\"].str.replace(\"Airport\", \"\").str.strip() # Remove the word \"Airport\" to match with numeric_airports_df because the word \"airport\" is not commonly included in numeric_airports_df"
   ],
   "id": "eb82e9ceff13d16e",
   "outputs": [],
   "execution_count": 7
  },
  {
   "metadata": {
    "ExecuteTime": {
     "end_time": "2025-04-30T09:36:56.914993Z",
     "start_time": "2025-04-30T09:36:56.887685Z"
    }
   },
   "cell_type": "code",
   "source": [
    "# Match airports based off of their names\n",
    "numeric_airports_df = pd.merge(numeric_airports_df, airports_df, on=\"AIRPORT\", how=\"left\")\n",
    "matched_airports_df = numeric_airports_df.dropna()[[\"Code\", \"IATA_CODE\"]]\n",
    "\n",
    "# Store the unmatched airports, both their numeric codes, and their IATA codes.\n",
    "unmatched_numeric_airports_df = numeric_airports_df.loc[numeric_airports_df[\"LATITUDE\"].isna(), [\"Code\", \"Description\", \"N_CITY\", \"AIRPORT\", \"N_STATE\"]]\n",
    "unmatched_airports_df = airports_df[~airports_df[\"IATA_CODE\"].isin(matched_airports_df[\"IATA_CODE\"].to_list())]\n",
    "\n",
    "\n",
    "# 181 airports were successfully matched using the airport name\n",
    "print(\"Number of airports successfully matched:\", len(matched_airports_df))\n",
    "print(\"Number of unmatched airports from the month of October:\", len(unmatched_numeric_airports_df))\n",
    "print(\"Number of unmatched airports from the dataset as a whole:\", len(unmatched_airports_df))"
   ],
   "id": "942a4c88d9f8d740",
   "outputs": [
    {
     "name": "stdout",
     "output_type": "stream",
     "text": [
      "Number of airports successfully matched: 181\n",
      "Number of unmatched airports from the month of October: 126\n",
      "Number of unmatched airports from the dataset as a whole: 141\n"
     ]
    }
   ],
   "execution_count": 8
  },
  {
   "metadata": {
    "ExecuteTime": {
     "end_time": "2025-04-30T09:36:57.071468Z",
     "start_time": "2025-04-30T09:36:57.045121Z"
    }
   },
   "cell_type": "code",
   "source": [
    "# Match airports by what city they are in\n",
    "\n",
    "# Gather how many times each city occurs\n",
    "unmatched_numeric_cities = unmatched_numeric_airports_df[\"N_CITY\"].value_counts()\n",
    "unmatched_cities = unmatched_airports_df[\"CITY\"].value_counts()\n",
    "\n",
    "# Find when the city occurs only once in both the numeric and IATA DataFrames.\n",
    "by_city_airports_df =  pd.merge(unmatched_numeric_airports_df.set_index(\"N_CITY\")\n",
    "                                .loc[unmatched_numeric_cities[unmatched_numeric_cities ==1].index],\n",
    "                                unmatched_airports_df.set_index(\"CITY\").loc[unmatched_cities[unmatched_cities == 1].index],\n",
    "                                left_index=True, right_index=True, how=\"left\")\n",
    "\n",
    "# Update the matched_airports_df\n",
    "matched_by_city_airports_df = by_city_airports_df[[\"Code\", \"IATA_CODE\"]].dropna()\n",
    "matched_airports_df = pd.concat([matched_airports_df, matched_by_city_airports_df])\n",
    "print(\"Number of airports successfully matched:\", len(matched_airports_df))\n",
    "\n",
    "# Update both datasets of unmatched airport codes\n",
    "unmatched_numeric_airports_df = unmatched_numeric_airports_df[~unmatched_numeric_airports_df[\"Code\"].isin(matched_by_city_airports_df[\"Code\"].to_list())]\n",
    "unmatched_airports_df = unmatched_airports_df[~unmatched_airports_df[\"IATA_CODE\"].isin(matched_by_city_airports_df[\"IATA_CODE\"].to_list())]\n",
    "print(\"Number of unmatched airports from the month of October:\", len(unmatched_numeric_airports_df))\n",
    "print(\"Number of unmatched airports from the dataset as a whole:\", len(unmatched_airports_df))"
   ],
   "id": "32e0ece8af7e036",
   "outputs": [
    {
     "name": "stdout",
     "output_type": "stream",
     "text": [
      "Number of airports successfully matched: 278\n",
      "Number of unmatched airports from the month of October: 29\n",
      "Number of unmatched airports from the dataset as a whole: 44\n"
     ]
    }
   ],
   "execution_count": 9
  },
  {
   "metadata": {
    "ExecuteTime": {
     "end_time": "2025-04-30T09:36:57.117669Z",
     "start_time": "2025-04-30T09:36:57.086719Z"
    }
   },
   "cell_type": "code",
   "source": [
    "# Match airports by what state they are in\n",
    "\n",
    "# Gather how many times each State occurs\n",
    "unmatched_numeric_states = unmatched_numeric_airports_df[\"N_STATE\"].value_counts()\n",
    "unmatched_states = unmatched_airports_df[\"STATE\"].value_counts()\n",
    "\n",
    "# Find when the State occurs only once in both the numeric and IATA DataFrames.\n",
    "by_state_airports_df = pd.merge(unmatched_numeric_airports_df.set_index(\"N_STATE\")\n",
    "                                .loc[unmatched_numeric_states[unmatched_numeric_states ==1].index],\n",
    "                                unmatched_airports_df.set_index(\"STATE\").loc[unmatched_states[unmatched_states == 1].index],\n",
    "                                left_index=True, right_index=True, how=\"left\")\n",
    "\n",
    "# Update the matched_airports_df\n",
    "matched_by_state_airports_df = by_state_airports_df[[\"Code\", \"IATA_CODE\"]].dropna()\n",
    "matched_airports_df = pd.concat([matched_airports_df, matched_by_state_airports_df])\n",
    "print(\"Number of airports successfully matched:\", len(matched_airports_df))\n",
    "\n",
    "# Update both datasets of unmatched airport codes\n",
    "unmatched_airports_df = unmatched_airports_df[~unmatched_airports_df[\"IATA_CODE\"].isin(matched_by_state_airports_df[\"IATA_CODE\"].to_list())]\n",
    "unmatched_numeric_airports_df = unmatched_numeric_airports_df[~unmatched_numeric_airports_df[\"Code\"].isin(matched_by_state_airports_df[\"Code\"].to_list())]\n",
    "print(\"Number of unmatched airports from the month of October:\", len(unmatched_numeric_airports_df))\n",
    "print(\"Number of unmatched airports from the dataset as a whole:\", len(unmatched_airports_df))"
   ],
   "id": "82a817fe424deac",
   "outputs": [
    {
     "name": "stdout",
     "output_type": "stream",
     "text": [
      "Number of airports successfully matched: 291\n",
      "Number of unmatched airports from the month of October: 16\n",
      "Number of unmatched airports from the dataset as a whole: 31\n"
     ]
    }
   ],
   "execution_count": 10
  },
  {
   "metadata": {
    "ExecuteTime": {
     "end_time": "2025-04-30T09:36:57.209537Z",
     "start_time": "2025-04-30T09:36:57.183064Z"
    }
   },
   "cell_type": "code",
   "source": [
    "# There are only 16 values left to match, so I will manually match them.\n",
    "codes = {\n",
    "    216: \"SAN\", 297: \"MVY\", 153: \"EWN\", 154: \"OAJ\", 177: \"FAY\", 92: \"JFK\", 107: \"LGA\", 265: \"SWF\", 130: \"RDM\", 296: \"OTH\",  17: \"IAH\", 26: \"HOU\", 49: \"CLL\", 52: \"MAF\",\n",
    "    64: \"MFE\", 241: \"SGU\"\n",
    "}\n",
    "print(len(codes.keys()))\n",
    "# Add the codes to the unmatched data and then add the to the matched data to have a complete dataset\n",
    "unmatched_numeric_airports_df[\"IATA_CODE\"] = \"\"\n",
    "unmatched_numeric_airports_df.loc[codes.keys(), \"IATA_CODE\"] = list(codes.values())\n",
    "matched_airports_df = pd.concat([matched_airports_df, unmatched_numeric_airports_df[[\"Code\", \"IATA_CODE\"]]])"
   ],
   "id": "1da13699fc2d8896",
   "outputs": [
    {
     "name": "stdout",
     "output_type": "stream",
     "text": [
      "16\n"
     ]
    }
   ],
   "execution_count": 11
  },
  {
   "metadata": {
    "ExecuteTime": {
     "end_time": "2025-04-30T09:37:04.017947Z",
     "start_time": "2025-04-30T09:36:57.290275Z"
    }
   },
   "cell_type": "code",
   "source": [
    "# Edit flights_df to replace the 5 digit codes with the IATA airport codes\n",
    "\n",
    "for c in [\"ORIGIN\", \"DESTINATION\"]:\n",
    "    matched_airports_df.columns=[f\"{c}_AIRPORT\", f\"{c}_IATA_CODE\"]\n",
    "    # Merge the dataframes to add a column with the correct IATA code.\n",
    "    flights_df = pd.merge(flights_df, matched_airports_df, on=f\"{c}_AIRPORT\", how=\"left\")\n",
    "    # Replace the 5 digit codes with the IATA codes\n",
    "    flights_df.loc[flights_df[\"MONTH\"] == 10, f\"{c}_AIRPORT\"] = flights_df[f\"{c}_IATA_CODE\"]\n",
    "    # Drop the added column\n",
    "    flights_df = flights_df.drop(f\"{c}_IATA_CODE\", axis=1)\n",
    "\n",
    "# Check to see if there were any unedited columns\n",
    "flights_df[\"ORIGIN_AIRPORT\"].str.contains(r\"\\d+\", regex=True).sum()"
   ],
   "id": "d1255ffe46726242",
   "outputs": [
    {
     "data": {
      "text/plain": [
       "0"
      ]
     },
     "execution_count": 12,
     "metadata": {},
     "output_type": "execute_result"
    }
   ],
   "execution_count": 12
  },
  {
   "metadata": {
    "ExecuteTime": {
     "end_time": "2025-04-30T09:37:04.096787Z",
     "start_time": "2025-04-30T09:37:04.066357Z"
    }
   },
   "cell_type": "code",
   "source": [
    "flights_df.head()\n",
    "# flights_df has 31 columns\n",
    "\n",
    "# For data that is recorded in minutes such as TAXI_IN taking x amount of minutes, I will leave those columns as is:\n",
    "# DEPARTURE_DELAY, TAXI_OUT, SCHEDULED_TIME, ELAPSED_TIME, AIR_TIME, TAXI_IN, ARRIVAL_DELAY\n",
    "\n",
    "# For data that is recorded in time and formated as hhmm such as WHEELS_ON happening at 08:21 but being recorded as 821, I will turn these columns into pd.datetime, but there are several problems:\n",
    "\n",
    "# columns for YEAR, MONTH, DAY, DAY_OF_WEEK, are accurate for SCHEDULED_DEPARTURE rather than for the other various recorded times DEPARTURE_TIME, WHEELS_OFF, WHEELS_ON, SCHEDULED_ARRIVAL, ARRIVAL_TIME\n",
    "\n",
    "# We can look at the first row in which the SCHEDULED_DEPARTURE is 00:05 on the 1st of January and the DEPARTURE_TIME is 23:54\n",
    "# In order to find an accurate datetime for all 6 time columns, I will use the derivative columns in the dataset such as DEPARTURE_DELAY to calculate them.\n",
    "\n",
    "# The columns related to the destination airport, WHEELS_ON, SCHEDULED_ARRIVAL, ARRIVAL TIME, are in the timezone of the destination airport rather than the origin airport.\n",
    "# I will include in the correct destination timezone, the hour and minute of the SCHEDULED_ARRIVAL, but all other time will be in the timezone of the origin airport"
   ],
   "id": "95b66e5d228c2892",
   "outputs": [
    {
     "data": {
      "text/plain": [
       "   YEAR  MONTH  DAY  DAY_OF_WEEK AIRLINE FLIGHT_NUMBER TAIL_NUMBER  \\\n",
       "0  2015      1    1            4      AS            98      N407AS   \n",
       "1  2015      1    1            4      AA          2336      N3KUAA   \n",
       "2  2015      1    1            4      US           840      N171US   \n",
       "3  2015      1    1            4      AA           258      N3HYAA   \n",
       "4  2015      1    1            4      AS           135      N527AS   \n",
       "\n",
       "  ORIGIN_AIRPORT DESTINATION_AIRPORT  SCHEDULED_DEPARTURE  ...  ARRIVAL_TIME  \\\n",
       "0            ANC                 SEA                    5  ...         408.0   \n",
       "1            LAX                 PBI                   10  ...         741.0   \n",
       "2            SFO                 CLT                   20  ...         811.0   \n",
       "3            LAX                 MIA                   20  ...         756.0   \n",
       "4            SEA                 ANC                   25  ...         259.0   \n",
       "\n",
       "   ARRIVAL_DELAY  DIVERTED  CANCELLED  CANCELLATION_REASON  AIR_SYSTEM_DELAY  \\\n",
       "0          -22.0         0          0                  NaN               NaN   \n",
       "1           -9.0         0          0                  NaN               NaN   \n",
       "2            5.0         0          0                  NaN               NaN   \n",
       "3           -9.0         0          0                  NaN               NaN   \n",
       "4          -21.0         0          0                  NaN               NaN   \n",
       "\n",
       "   SECURITY_DELAY  AIRLINE_DELAY  LATE_AIRCRAFT_DELAY  WEATHER_DELAY  \n",
       "0             NaN            NaN                  NaN            NaN  \n",
       "1             NaN            NaN                  NaN            NaN  \n",
       "2             NaN            NaN                  NaN            NaN  \n",
       "3             NaN            NaN                  NaN            NaN  \n",
       "4             NaN            NaN                  NaN            NaN  \n",
       "\n",
       "[5 rows x 31 columns]"
      ],
      "text/html": [
       "<div>\n",
       "<style scoped>\n",
       "    .dataframe tbody tr th:only-of-type {\n",
       "        vertical-align: middle;\n",
       "    }\n",
       "\n",
       "    .dataframe tbody tr th {\n",
       "        vertical-align: top;\n",
       "    }\n",
       "\n",
       "    .dataframe thead th {\n",
       "        text-align: right;\n",
       "    }\n",
       "</style>\n",
       "<table border=\"1\" class=\"dataframe\">\n",
       "  <thead>\n",
       "    <tr style=\"text-align: right;\">\n",
       "      <th></th>\n",
       "      <th>YEAR</th>\n",
       "      <th>MONTH</th>\n",
       "      <th>DAY</th>\n",
       "      <th>DAY_OF_WEEK</th>\n",
       "      <th>AIRLINE</th>\n",
       "      <th>FLIGHT_NUMBER</th>\n",
       "      <th>TAIL_NUMBER</th>\n",
       "      <th>ORIGIN_AIRPORT</th>\n",
       "      <th>DESTINATION_AIRPORT</th>\n",
       "      <th>SCHEDULED_DEPARTURE</th>\n",
       "      <th>...</th>\n",
       "      <th>ARRIVAL_TIME</th>\n",
       "      <th>ARRIVAL_DELAY</th>\n",
       "      <th>DIVERTED</th>\n",
       "      <th>CANCELLED</th>\n",
       "      <th>CANCELLATION_REASON</th>\n",
       "      <th>AIR_SYSTEM_DELAY</th>\n",
       "      <th>SECURITY_DELAY</th>\n",
       "      <th>AIRLINE_DELAY</th>\n",
       "      <th>LATE_AIRCRAFT_DELAY</th>\n",
       "      <th>WEATHER_DELAY</th>\n",
       "    </tr>\n",
       "  </thead>\n",
       "  <tbody>\n",
       "    <tr>\n",
       "      <th>0</th>\n",
       "      <td>2015</td>\n",
       "      <td>1</td>\n",
       "      <td>1</td>\n",
       "      <td>4</td>\n",
       "      <td>AS</td>\n",
       "      <td>98</td>\n",
       "      <td>N407AS</td>\n",
       "      <td>ANC</td>\n",
       "      <td>SEA</td>\n",
       "      <td>5</td>\n",
       "      <td>...</td>\n",
       "      <td>408.0</td>\n",
       "      <td>-22.0</td>\n",
       "      <td>0</td>\n",
       "      <td>0</td>\n",
       "      <td>NaN</td>\n",
       "      <td>NaN</td>\n",
       "      <td>NaN</td>\n",
       "      <td>NaN</td>\n",
       "      <td>NaN</td>\n",
       "      <td>NaN</td>\n",
       "    </tr>\n",
       "    <tr>\n",
       "      <th>1</th>\n",
       "      <td>2015</td>\n",
       "      <td>1</td>\n",
       "      <td>1</td>\n",
       "      <td>4</td>\n",
       "      <td>AA</td>\n",
       "      <td>2336</td>\n",
       "      <td>N3KUAA</td>\n",
       "      <td>LAX</td>\n",
       "      <td>PBI</td>\n",
       "      <td>10</td>\n",
       "      <td>...</td>\n",
       "      <td>741.0</td>\n",
       "      <td>-9.0</td>\n",
       "      <td>0</td>\n",
       "      <td>0</td>\n",
       "      <td>NaN</td>\n",
       "      <td>NaN</td>\n",
       "      <td>NaN</td>\n",
       "      <td>NaN</td>\n",
       "      <td>NaN</td>\n",
       "      <td>NaN</td>\n",
       "    </tr>\n",
       "    <tr>\n",
       "      <th>2</th>\n",
       "      <td>2015</td>\n",
       "      <td>1</td>\n",
       "      <td>1</td>\n",
       "      <td>4</td>\n",
       "      <td>US</td>\n",
       "      <td>840</td>\n",
       "      <td>N171US</td>\n",
       "      <td>SFO</td>\n",
       "      <td>CLT</td>\n",
       "      <td>20</td>\n",
       "      <td>...</td>\n",
       "      <td>811.0</td>\n",
       "      <td>5.0</td>\n",
       "      <td>0</td>\n",
       "      <td>0</td>\n",
       "      <td>NaN</td>\n",
       "      <td>NaN</td>\n",
       "      <td>NaN</td>\n",
       "      <td>NaN</td>\n",
       "      <td>NaN</td>\n",
       "      <td>NaN</td>\n",
       "    </tr>\n",
       "    <tr>\n",
       "      <th>3</th>\n",
       "      <td>2015</td>\n",
       "      <td>1</td>\n",
       "      <td>1</td>\n",
       "      <td>4</td>\n",
       "      <td>AA</td>\n",
       "      <td>258</td>\n",
       "      <td>N3HYAA</td>\n",
       "      <td>LAX</td>\n",
       "      <td>MIA</td>\n",
       "      <td>20</td>\n",
       "      <td>...</td>\n",
       "      <td>756.0</td>\n",
       "      <td>-9.0</td>\n",
       "      <td>0</td>\n",
       "      <td>0</td>\n",
       "      <td>NaN</td>\n",
       "      <td>NaN</td>\n",
       "      <td>NaN</td>\n",
       "      <td>NaN</td>\n",
       "      <td>NaN</td>\n",
       "      <td>NaN</td>\n",
       "    </tr>\n",
       "    <tr>\n",
       "      <th>4</th>\n",
       "      <td>2015</td>\n",
       "      <td>1</td>\n",
       "      <td>1</td>\n",
       "      <td>4</td>\n",
       "      <td>AS</td>\n",
       "      <td>135</td>\n",
       "      <td>N527AS</td>\n",
       "      <td>SEA</td>\n",
       "      <td>ANC</td>\n",
       "      <td>25</td>\n",
       "      <td>...</td>\n",
       "      <td>259.0</td>\n",
       "      <td>-21.0</td>\n",
       "      <td>0</td>\n",
       "      <td>0</td>\n",
       "      <td>NaN</td>\n",
       "      <td>NaN</td>\n",
       "      <td>NaN</td>\n",
       "      <td>NaN</td>\n",
       "      <td>NaN</td>\n",
       "      <td>NaN</td>\n",
       "    </tr>\n",
       "  </tbody>\n",
       "</table>\n",
       "<p>5 rows × 31 columns</p>\n",
       "</div>"
      ]
     },
     "execution_count": 13,
     "metadata": {},
     "output_type": "execute_result"
    }
   ],
   "execution_count": 13
  },
  {
   "metadata": {
    "ExecuteTime": {
     "end_time": "2025-04-30T09:48:03.372668Z",
     "start_time": "2025-04-30T09:37:04.219695Z"
    }
   },
   "cell_type": "code",
   "source": [
    "# Converting SCHEDULED_DEPARTURE from hhmm into datetime and adding separate HOUR and MINUTE columns for departure\n",
    "flights_df[\"SCHEDULED_DEPARTURE\"] = flights_df[\"SCHEDULED_DEPARTURE\"].astype(str).str.zfill(4) # Increasing the total number of digits to 4\n",
    "flights_df[\"HOURS\"] = flights_df[\"SCHEDULED_DEPARTURE\"].str[:2].astype(\"uint8\") # Creating the HOURS column\n",
    "flights_df[\"MINUTES\"] = flights_df[\"SCHEDULED_DEPARTURE\"].str[2:].astype(\"uint8\") # Creating the MINUTES column\n",
    "flights_df[\"SCHEDULED_DEPARTURE\"] = pd.to_datetime(flights_df[[\"YEAR\", \"MONTH\", \"DAY\", \"HOURS\", \"MINUTES\"]]) # Transforming SCHEDULED_DEPARTURE into datetime\n",
    "flights_df = flights_df.rename({\"HOURS\":\"SCHEDULED_DEPARTURE_HOURS\",\n",
    "                                \"MINUTES\":\"SCHEDULED_DEPARTURE_MINUTES\"}, axis=1)"
   ],
   "id": "b7faa9a7c1a36d83",
   "outputs": [],
   "execution_count": 14
  },
  {
   "metadata": {
    "ExecuteTime": {
     "end_time": "2025-04-30T09:48:13.232535Z",
     "start_time": "2025-04-30T09:48:03.991350Z"
    }
   },
   "cell_type": "code",
   "source": [
    "flights_df[\"SCHEDULED_ARRIVAL\"] = flights_df[\"SCHEDULED_ARRIVAL\"].astype(str).str.zfill(4) # Increasing the total number of digits to 4\n",
    "flights_df[\"SCHEDULED_ARRIVAL_HOUR_IN_DESTINATION_TIMEZONE\"] = flights_df[\"SCHEDULED_ARRIVAL\"].str[:2].astype(\"uint8\") # Creating the HOURS column\n",
    "flights_df[\"SCHEDULED_ARRIVAL_MINUTE_IN_DESTINATION_TIMEZONE\"] = flights_df[\"SCHEDULED_ARRIVAL\"].str[2:].astype(\"uint8\") # Creating the MINUTES column\n",
    "flights_df[\"SCHEDULED_ARRIVAL\"] = flights_df[\"SCHEDULED_DEPARTURE\"] + pd.to_timedelta(flights_df[\"SCHEDULED_TIME\"], unit=\"m\") # Setting the SCHEDULED_ARRIVAL column into datetime in the timezone of the origin airport\n"
   ],
   "id": "8ace9511700bb381",
   "outputs": [],
   "execution_count": 15
  },
  {
   "metadata": {
    "ExecuteTime": {
     "end_time": "2025-04-30T09:48:14.647982Z",
     "start_time": "2025-04-30T09:48:13.252589Z"
    }
   },
   "cell_type": "code",
   "source": [
    "# Creating datetime columns for the other time columns\n",
    "flights_df[\"DEPARTURE_TIME\"] = flights_df[\"SCHEDULED_DEPARTURE\"] + pd.to_timedelta(flights_df[\"DEPARTURE_DELAY\"], unit=\"m\")\n",
    "flights_df[\"WHEELS_OFF\"] = flights_df[\"DEPARTURE_TIME\"] + pd.to_timedelta(flights_df[\"TAXI_OUT\"], unit=\"m\")\n",
    "flights_df[\"WHEELS_ON\"] = flights_df[\"WHEELS_OFF\"] + pd.to_timedelta(flights_df[\"AIR_TIME\"], unit=\"m\")\n",
    "flights_df[\"ARRIVAL_TIME\"] = flights_df[\"WHEELS_ON\"] + pd.to_timedelta(flights_df[\"TAXI_IN\"], unit=\"m\")"
   ],
   "id": "3727d1343477eff8",
   "outputs": [],
   "execution_count": 16
  },
  {
   "metadata": {
    "ExecuteTime": {
     "end_time": "2025-04-30T09:48:16.082318Z",
     "start_time": "2025-04-30T09:48:14.949991Z"
    }
   },
   "cell_type": "code",
   "source": [
    "# flights_df includes flights that are cancelled, diverted and ones that landed at the target airport.  To predict flight delays, I will only be using flights that have landed at the target airports.\n",
    "landed_df = flights_df.loc[(flights_df[\"CANCELLED\"] == 0) & (flights_df[\"DIVERTED\"] == 0)]"
   ],
   "id": "eb28d7385a0f29e1",
   "outputs": [],
   "execution_count": 17
  },
  {
   "metadata": {
    "ExecuteTime": {
     "end_time": "2025-04-30T09:48:17.550397Z",
     "start_time": "2025-04-30T09:48:16.149499Z"
    }
   },
   "cell_type": "code",
   "source": [
    "# Cleaning landed_df\n",
    "landed_df.loc[:,[\"AIR_SYSTEM_DELAY\", \"SECURITY_DELAY\", \"AIRLINE_DELAY\", \"LATE_AIRCRAFT_DELAY\", \"WEATHER_DELAY\"]] = landed_df.loc[:,[\"AIR_SYSTEM_DELAY\", \"SECURITY_DELAY\", \"AIRLINE_DELAY\", \"LATE_AIRCRAFT_DELAY\", \"WEATHER_DELAY\"]].fillna(0.0)\n",
    "landed_df = landed_df.drop([\"YEAR\", \"DIVERTED\", \"CANCELLED\", \"CANCELLATION_REASON\"], axis=1)"
   ],
   "id": "6d8bb40f9b4d7e8d",
   "outputs": [],
   "execution_count": 18
  },
  {
   "metadata": {
    "ExecuteTime": {
     "end_time": "2025-04-30T09:48:17.644430Z",
     "start_time": "2025-04-30T09:48:17.632318Z"
    }
   },
   "cell_type": "code",
   "source": "landed_df.dtypes",
   "id": "333d992f9fd07a57",
   "outputs": [
    {
     "data": {
      "text/plain": [
       "MONTH                                                        uint8\n",
       "DAY                                                          uint8\n",
       "DAY_OF_WEEK                                                  uint8\n",
       "AIRLINE                                                   category\n",
       "FLIGHT_NUMBER                                             category\n",
       "TAIL_NUMBER                                               category\n",
       "ORIGIN_AIRPORT                                              object\n",
       "DESTINATION_AIRPORT                                         object\n",
       "SCHEDULED_DEPARTURE                                 datetime64[ns]\n",
       "DEPARTURE_TIME                                      datetime64[ns]\n",
       "DEPARTURE_DELAY                                            float64\n",
       "TAXI_OUT                                                   float64\n",
       "WHEELS_OFF                                          datetime64[ns]\n",
       "SCHEDULED_TIME                                             float64\n",
       "ELAPSED_TIME                                               float64\n",
       "AIR_TIME                                                   float64\n",
       "DISTANCE                                                     int64\n",
       "WHEELS_ON                                           datetime64[ns]\n",
       "TAXI_IN                                                    float64\n",
       "SCHEDULED_ARRIVAL                                   datetime64[ns]\n",
       "ARRIVAL_TIME                                        datetime64[ns]\n",
       "ARRIVAL_DELAY                                              float64\n",
       "AIR_SYSTEM_DELAY                                           float64\n",
       "SECURITY_DELAY                                             float64\n",
       "AIRLINE_DELAY                                              float64\n",
       "LATE_AIRCRAFT_DELAY                                        float64\n",
       "WEATHER_DELAY                                              float64\n",
       "SCHEDULED_DEPARTURE_HOURS                                    uint8\n",
       "SCHEDULED_DEPARTURE_MINUTES                                  uint8\n",
       "SCHEDULED_ARRIVAL_HOUR_IN_DESTINATION_TIMEZONE               uint8\n",
       "SCHEDULED_ARRIVAL_MINUTE_IN_DESTINATION_TIMEZONE             uint8\n",
       "dtype: object"
      ]
     },
     "execution_count": 19,
     "metadata": {},
     "output_type": "execute_result"
    }
   ],
   "execution_count": 19
  },
  {
   "metadata": {
    "ExecuteTime": {
     "end_time": "2025-04-28T13:36:00.833277Z",
     "start_time": "2025-04-28T13:35:59.677955Z"
    }
   },
   "cell_type": "code",
   "source": [
    "landed_df = landed_df.astype({\n",
    "    \"ORIGIN_AIRPORT\":\"category\",\n",
    "    \"DESTINATION_AIRPORT\":\"category\",\n",
    "    \"DEPARTURE_DELAY\":\"int16\",\n",
    "    \"TAXI_OUT\":\"uint16\",\n",
    "    \"SCHEDULED_TIME\":\"uint16\",\n",
    "    \"ELAPSED_TIME\":\"uint16\",\n",
    "    \"AIR_TIME\":\"uint16\",\n",
    "    \"DISTANCE\":\"uint16\",\n",
    "    \"TAXI_IN\":\"uint8\",\n",
    "    \"ARRIVAL_DELAY\":\"int16\",\n",
    "    \"AIR_SYSTEM_DELAY\":\"uint16\",\n",
    "    \"SECURITY_DELAY\":\"uint16\",\n",
    "    \"AIRLINE_DELAY\":\"uint16\",\n",
    "    \"LATE_AIRCRAFT_DELAY\":\"uint16\",\n",
    "    \"WEATHER_DELAY\":\"uint16\"\n",
    "})"
   ],
   "id": "80153f2eb63ec8f8",
   "outputs": [],
   "execution_count": 25
  },
  {
   "metadata": {
    "ExecuteTime": {
     "end_time": "2025-04-28T13:36:01.724443Z",
     "start_time": "2025-04-28T13:36:00.916576Z"
    }
   },
   "cell_type": "code",
   "source": "landed_df.to_pickle(\"landed_flights.pkl\")",
   "id": "a921b03adff176c8",
   "outputs": [],
   "execution_count": 26
  },
  {
   "metadata": {},
   "cell_type": "code",
   "outputs": [],
   "execution_count": null,
   "source": "",
   "id": "cd40791b5afce2b9"
  }
 ],
 "metadata": {
  "kernelspec": {
   "display_name": "Python 3",
   "language": "python",
   "name": "python3"
  },
  "language_info": {
   "codemirror_mode": {
    "name": "ipython",
    "version": 2
   },
   "file_extension": ".py",
   "mimetype": "text/x-python",
   "name": "python",
   "nbconvert_exporter": "python",
   "pygments_lexer": "ipython2",
   "version": "2.7.6"
  }
 },
 "nbformat": 4,
 "nbformat_minor": 5
}
